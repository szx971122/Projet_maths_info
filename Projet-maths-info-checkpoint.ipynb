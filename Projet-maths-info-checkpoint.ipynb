{
 "cells": [
  {
   "cell_type": "code",
   "execution_count": null,
   "metadata": {},
   "outputs": [],
   "source": [
    "SHEN Zhexiao, LACOSTE Lucille, QUILLERIET Marie-Clémentine"
   ]
  },
  {
   "cell_type": "code",
   "execution_count": null,
   "metadata": {},
   "outputs": [],
   "source": [
    "import numpy as np\n",
    "import matplotlib.pyplot as plt"
   ]
  },
  {
   "cell_type": "code",
   "execution_count": null,
   "metadata": {},
   "outputs": [],
   "source": [
    "def f(x,y):\n",
    "    return np.exp(-x**2-y**2)"
   ]
  },
  {
   "cell_type": "markdown",
   "metadata": {},
   "source": [
    "Pour qu'il existe un t tel que f(0,t) = c, il faut que c soit compris entre f(0,0) et f(0,1)"
   ]
  },
  {
   "cell_type": "code",
   "execution_count": null,
   "metadata": {},
   "outputs": [],
   "source": [
    "def find_seed(g, c, eps=2**(-26)):\n",
    "    \"\"\" on trouve le t pour lequel g(0,t)=c \n",
    "    en cherchant le zéro de f(t)=g(0,t)-c par dichotomie \"\"\"\n",
    "    f=lambda t: g(0,t)-c\n",
    "    if f(0) == 0:\n",
    "        return 0\n",
    "    elif f(1) == 0:\n",
    "        return 1\n",
    "    elif f(0)*f(1) < 0:\n",
    "        return dichotomie(f,0,1,eps)\n",
    "    elif f(0)*f(1) > 0:\n",
    "        return None"
   ]
  },
  {
   "cell_type": "code",
   "execution_count": null,
   "metadata": {},
   "outputs": [],
   "source": [
    "def dichotomie(f, a, b, eps):\n",
    "    while abs(a-b) > eps:\n",
    "        g = f(a)\n",
    "        d = f(b)\n",
    "        m = f((a+b)/2)\n",
    "        if m == 0 :\n",
    "            return (a+b)/2\n",
    "        elif g*m < 0 :\n",
    "            b = (a+b)/2\n",
    "        elif d*m < 0 :\n",
    "            a = (a+b)/2\n",
    "    return (a+b)/2"
   ]
  },
  {
   "cell_type": "code",
   "execution_count": null,
   "metadata": {},
   "outputs": [],
   "source": [
    "def find_next_point(g, x, y, alpha_0, c, delta, eps=2**(-20)):\n",
    "    \"\"\" prend en argument e dernier point trouvé de la ligne de niveau \n",
    "    et l'angle qui sert à pointer la direction approximative que prend la ligne de niveau. \n",
    "    On regarde ensuite dans le demi-cercle autour de cette direction, et on y cherche, \n",
    "    par dichotomie sur les angles, \n",
    "    le prochain point de la ligne de niveau (selon le même principe que find_seed).\"\"\"\n",
    "    f=lambda t: g(x+delta*np.cos(t), y+delta*np.sin(t))-c\n",
    "    alpha = dichotomie(f, alpha_0 - np.pi/2, alpha_0 + np.pi/2, eps)\n",
    "    return x+delta*np.cos(alpha), y+delta*np.sin(alpha)"
   ]
  },
  {
   "cell_type": "code",
   "execution_count": null,
   "metadata": {},
   "outputs": [],
   "source": [
    "def simple_contour(f, c, delta=0.01):\n",
    "    \"\"\" on initialise la liste des coordonnées de niveau grâce à find_seed. \n",
    "    Si on ne trouve rien grâce à find_seed, on retourne deux listes vides.\n",
    "    Puis, pour les coordonnées du deuxième point de la ligne de niveau, on utilise find_next_point \n",
    "    avec le 1er point trouvé (x,y) et avec alpha_0 = 0 - on suppose qu'on part du bord gauche de la cellule, \n",
    "    et donc qu'il faut chercher le deuxième point dans le demi-cercle situé à droite \n",
    "    du premier point trouvé.\n",
    "    On trouve l'angle donnant la direction de la ligne de niveau en prenant l'arctangente de la tangente \n",
    "    calculée à partir des deux derniers points trouvés de la ligne de niveau.\"\"\"\n",
    "    x = []\n",
    "    y = []\n",
    "    t = find_seed(f,c)\n",
    "    if t == None:\n",
    "        return x, y\n",
    "    else:\n",
    "        x.append(0)\n",
    "        y.append(t)\n",
    "    x_next, y_next = find_next_point(f, x[0], y[0], 0, c, delta)\n",
    "    if 0 <= x_next <= 1 and 0 <= y_next <= 1:\n",
    "        x.append(x_next)\n",
    "        y.append(y_next)\n",
    "        while True:\n",
    "            if x[-1] == x[-2]:\n",
    "                alpha_0 = np.pi/2\n",
    "                if y[-1] < y[-2]:\n",
    "                    alpha_0 - -np.pi/2\n",
    "            else:\n",
    "                alpha_0 = np.arctan((y[-1]-y[-2])/(x[-1]-x[-2]))\n",
    "            if x[-1] - x[-2] < 0:\n",
    "                alpha_0 += np.pi\n",
    "            x_next, y_next = find_next_point(f, x[-1], y[-1], alpha_0, c, delta)\n",
    "            if 0 <= x_next <= 1 and 0 <= y_next <= 1:\n",
    "                x.append(x_next)\n",
    "                y.append(y_next)\n",
    "            else:\n",
    "                break\n",
    "    return x, y"
   ]
  },
  {
   "cell_type": "code",
   "execution_count": null,
   "metadata": {},
   "outputs": [],
   "source": [
    "LEFT, UP, RIGHT, DOWN = 0, 1, 2, 3  # clockwise"
   ]
  },
  {
   "cell_type": "code",
   "execution_count": null,
   "metadata": {},
   "outputs": [],
   "source": [
    "def rotate_direction(direction, n=1):\n",
    "    return (direction + n) % 4"
   ]
  },
  {
   "cell_type": "code",
   "execution_count": null,
   "metadata": {},
   "outputs": [],
   "source": [
    "def rotate(x, y, n=1):\n",
    "    if n == 0:\n",
    "        return x, y\n",
    "    elif n >= 1:\n",
    "        return rotate(1 - y, x, n - 1)\n",
    "    else:\n",
    "        assert n < 0\n",
    "        return rotate(x, y, n=-3 * n)"
   ]
  },
  {
   "cell_type": "code",
   "execution_count": null,
   "metadata": {},
   "outputs": [],
   "source": [
    "def rotate_function(f, n=1):\n",
    "    def rotated_function(x, y):\n",
    "        xr, yr = rotate(x, y, -n)\n",
    "        return f(xr, yr)\n",
    "    return rotated_function"
   ]
  },
  {
   "cell_type": "code",
   "execution_count": null,
   "metadata": {},
   "outputs": [],
   "source": [
    "def contour(f, c, xs=[0.0, 1.0], ys=[0.0, 1.0], delta=0.01):\n",
    "    curves = []\n",
    "    nx, ny = len(xs), len(ys)\n",
    "    for i in range(nx - 1):\n",
    "        for j in range(ny - 1):\n",
    "            xmin, xmax = xs[i], xs[i + 1]\n",
    "            ymin, ymax = ys[j], ys[j + 1]\n",
    "            def f_cell(x, y):\n",
    "                return f(xmin + (xmax - xmin) * x, ymin + (ymax - ymin) * y)\n",
    "            done = set()\n",
    "            for n in [0, 1, 2, 3]:\n",
    "                if n not in done:\n",
    "                    rotated_f_cell = rotate_function(f_cell, n)\n",
    "                    x_curve_r, y_curve_r = simple_contour(rotated_f_cell, c, delta)\n",
    "                    exit = None\n",
    "                    if len(x_curve_r) >= 1:\n",
    "                        xf, yf = x_curve_r[-1], y_curve_r[-1]\n",
    "                        if xf == 0.0:\n",
    "                            exit = LEFT\n",
    "                        elif xf == 1.0:\n",
    "                            exit = RIGHT\n",
    "                        elif yf == 0.0:\n",
    "                            exit = DOWN\n",
    "                        elif yf == 1.0:\n",
    "                            exit = UP\n",
    "                    if exit is not None:  # a fully successful contour fragment\n",
    "                        exit = rotate_direction(exit, n)\n",
    "                        done.add(exit)\n",
    "                    x_curve, y_curve = [], []\n",
    "                    for x_r, y_r in zip(x_curve_r, y_curve_r):\n",
    "                        x, y = rotate(x_r, y_r, n=-n)\n",
    "                        x_curve.append(x)\n",
    "                        y_curve.append(y)\n",
    "                    x_curve = np.array(x_curve)\n",
    "                    y_curve = np.array(y_curve)\n",
    "                    curves.append((xmin + (xmax - xmin) * x_curve, ymin + (ymax - ymin) * y_curve))\n",
    "    return curves"
   ]
  },
  {
   "cell_type": "code",
   "execution_count": null,
   "metadata": {},
   "outputs": [],
   "source": [
    "level_curves_1 = contour(f, 0.5)"
   ]
  },
  {
   "cell_type": "code",
   "execution_count": null,
   "metadata": {},
   "outputs": [],
   "source": [
    "for x,y in level_curves_1:\n",
    "    plt.plot(x,y)"
   ]
  },
  {
   "cell_type": "code",
   "execution_count": null,
   "metadata": {},
   "outputs": [],
   "source": [
    "level_curves_2 = contour(f, 0.5, [-1, 0, 1], [-1, 0, 1])"
   ]
  },
  {
   "cell_type": "code",
   "execution_count": null,
   "metadata": {},
   "outputs": [],
   "source": [
    "for x,y in level_curves_2:\n",
    "    plt.plot(x,y)"
   ]
  },
  {
   "cell_type": "code",
   "execution_count": null,
   "metadata": {},
   "outputs": [],
   "source": []
  }
 ],
 "metadata": {
  "kernelspec": {
   "display_name": "Python 3",
   "language": "python",
   "name": "python3"
  },
  "language_info": {
   "codemirror_mode": {
    "name": "ipython",
    "version": 3
   },
   "file_extension": ".py",
   "mimetype": "text/x-python",
   "name": "python",
   "nbconvert_exporter": "python",
   "pygments_lexer": "ipython3",
   "version": "3.6.5"
  }
 },
 "nbformat": 4,
 "nbformat_minor": 2
}
